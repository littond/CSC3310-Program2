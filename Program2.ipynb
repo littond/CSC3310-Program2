{
 "cells": [
  {
   "cell_type": "markdown",
   "id": "ccd10a51",
   "metadata": {},
   "source": [
    "CSC3310 — Program #2 — Benchmarking Insertion and Selection Sorts\n",
    "\n",
    "David Litton and Eleazar Miranda\n",
    "\n",
    "CSC 3310\n",
    "\n",
    "Mar 1, 2024"
   ]
  },
  {
   "cell_type": "markdown",
   "id": "77008faa",
   "metadata": {},
   "source": [
    "# Implementation"
   ]
  },
  {
   "cell_type": "markdown",
   "id": "3bb689ad",
   "metadata": {},
   "source": [
    "## Selection Sort"
   ]
  },
  {
   "cell_type": "code",
   "execution_count": null,
   "id": "ff5484d5",
   "metadata": {},
   "outputs": [],
   "source": [
    "def selectionSort(input_arr):\n",
    "    "
   ]
  },
  {
   "cell_type": "markdown",
   "id": "8d436d3e",
   "metadata": {},
   "source": [
    "## Insertion Sort"
   ]
  },
  {
   "cell_type": "code",
   "execution_count": null,
   "id": "61f838de",
   "metadata": {},
   "outputs": [],
   "source": [
    "def insertionSort(input_arr):\n",
    "    "
   ]
  },
  {
   "cell_type": "markdown",
   "id": "275f268e",
   "metadata": {},
   "source": [
    "# Validation and Verification"
   ]
  },
  {
   "cell_type": "code",
   "execution_count": null,
   "id": "7910914f",
   "metadata": {},
   "outputs": [],
   "source": [
    "def validation_test():\n",
    "    "
   ]
  },
  {
   "cell_type": "code",
   "execution_count": null,
   "id": "fb70f2aa",
   "metadata": {},
   "outputs": [],
   "source": [
    "validation_test()"
   ]
  },
  {
   "cell_type": "markdown",
   "id": "298d00ff",
   "metadata": {},
   "source": [
    "# Benchmarking"
   ]
  },
  {
   "cell_type": "markdown",
   "id": "0e986db4",
   "metadata": {},
   "source": [
    "# Analysis"
   ]
  },
  {
   "cell_type": "markdown",
   "id": "ae450288",
   "metadata": {},
   "source": [
    "# Reflection"
   ]
  },
  {
   "cell_type": "code",
   "execution_count": null,
   "id": "737fdde4",
   "metadata": {},
   "outputs": [],
   "source": []
  }
 ],
 "metadata": {
  "kernelspec": {
   "display_name": "Python 3 (ipykernel)",
   "language": "python",
   "name": "python3"
  },
  "language_info": {
   "codemirror_mode": {
    "name": "ipython",
    "version": 3
   },
   "file_extension": ".py",
   "mimetype": "text/x-python",
   "name": "python",
   "nbconvert_exporter": "python",
   "pygments_lexer": "ipython3",
   "version": "3.11.4"
  }
 },
 "nbformat": 4,
 "nbformat_minor": 5
}
