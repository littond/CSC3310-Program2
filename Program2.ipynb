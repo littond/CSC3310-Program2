{
 "cells": [
  {
   "cell_type": "markdown",
   "id": "6f0daa44",
   "metadata": {},
   "source": [
    "CSC3310 — Program #2 — Benchmarking Insertion and Selection Sorts\n",
    "\n",
    "David Litton and Eleazar Miranda\n",
    "\n",
    "CSC 3310\n",
    "\n",
    "Mar 1, 2024"
   ]
  },
  {
   "cell_type": "markdown",
   "id": "3fe0f2fb",
   "metadata": {},
   "source": [
    "# Implementation"
   ]
  },
  {
   "cell_type": "markdown",
   "id": "6a1b534f",
   "metadata": {},
   "source": [
    "## Selection Sort"
   ]
  },
  {
   "cell_type": "code",
   "execution_count": 1,
   "id": "5f385ca9",
   "metadata": {},
   "outputs": [],
   "source": [
    "def selectionSort(input_arr):\n",
    "    n = len(input_arr)\n",
    "    for i in range(n-1):\n",
    "        min_index = i\n",
    "        for j in range(i + 1, n):\n",
    "            if input_arr[j] < input_arr[min_index]:\n",
    "                min_index = j\n",
    "        input_arr[i], input_arr[min_index] = input_arr[min_index], input_arr[i]\n",
    "\n",
    "    return input_arr\n",
    "        \n",
    "        \n"
   ]
  },
  {
   "cell_type": "markdown",
   "id": "6f8113a0",
   "metadata": {},
   "source": [
    "## Insertion Sort"
   ]
  },
  {
   "cell_type": "code",
   "execution_count": 2,
   "id": "009e01ba",
   "metadata": {},
   "outputs": [],
   "source": [
    "def insertionSort(input_arr):\n",
    "    for i in range(1, len(input_arr)):\n",
    "        key = input_arr[i]\n",
    "        j = i-1\n",
    "        while j >= 0 and key < input_arr[j] :\n",
    "                input_arr[j + 1] = input_arr[j]\n",
    "                j -= 1\n",
    "        input_arr[j + 1] = key\n",
    "    \n",
    "    return input_arr"
   ]
  },
  {
   "cell_type": "markdown",
   "id": "ad53a850",
   "metadata": {},
   "source": [
    "# Validation and Verification"
   ]
  },
  {
   "cell_type": "code",
   "execution_count": 3,
   "id": "fab0bc47",
   "metadata": {},
   "outputs": [],
   "source": [
    "sample_1 = [5, 3, 4, 2, 1]\n",
    "sample_2 = [1, 2, 3, 4, 5]\n",
    "sample_3 = [1, 1, 1, 1, 1]\n",
    "sample_4 = [5, 1, 1, 1, 1]\n",
    "\n",
    "output_1 = [1, 2, 3, 4, 5]\n",
    "output_2 = [1, 2, 3, 4, 5]\n",
    "output_3 = [1, 1, 1, 1, 1]\n",
    "output_4 = [1, 1, 1, 1, 5]\n",
    "\n",
    "all_sample_test_sets = [sample_1, sample_2, sample_3, sample_4]\n",
    "all_expected_outputs = [output_1, output_2, output_3, output_4]\n",
    "\n",
    "num_tests = 4"
   ]
  },
  {
   "cell_type": "code",
   "execution_count": 4,
   "id": "19c5a72a",
   "metadata": {},
   "outputs": [],
   "source": [
    "def validation_test():\n",
    "    for test_num in range(0, num_tests):\n",
    "        print(\"Testing using sample_\" + str(test_num + 1))\n",
    "        print(\" - input:  \" + str(all_sample_test_sets[test_num]))\n",
    "        print(\" - output: \" + str(all_expected_outputs[test_num]))\n",
    "        \n",
    "        selection_out = selectionSort(all_sample_test_sets[test_num])\n",
    "        insertion_out = insertionSort(all_sample_test_sets[test_num])\n",
    "        \n",
    "        \n",
    "        output_message = \"\"\n",
    "        error_msg = \"Invalid output:\\n\"\n",
    "        if (selection_out == all_expected_outputs[test_num]):\n",
    "            output_message += \"selection sort: PASSED | \"\n",
    "        else:\n",
    "            output_message += \"selection sort: FAILED | \"\n",
    "            error_msg += \"selection sort: \" + str(selection_out) + \"\\n\"\n",
    "            \n",
    "        if (insertion_out == all_expected_outputs[test_num]):\n",
    "            output_message += \"insertion sort: PASSED\"\n",
    "        else:\n",
    "            output_message += \"insertion sort: FAILED\"\n",
    "            error_msg += \"insertion sort: \" + str(selection_out)\n",
    "            \n",
    "        print(output_message)\n",
    "        print(error_msg + \"\\n\")"
   ]
  },
  {
   "cell_type": "code",
   "execution_count": 5,
   "id": "ffa52dce",
   "metadata": {},
   "outputs": [
    {
     "name": "stdout",
     "output_type": "stream",
     "text": [
      "Testing using sample_1\n",
      " - input:  [5, 3, 4, 2, 1]\n",
      " - output: [1, 2, 3, 4, 5]\n",
      "selection sort: PASSED | insertion sort: PASSED\n",
      "Invalid output:\n",
      "\n",
      "\n",
      "Testing using sample_2\n",
      " - input:  [1, 2, 3, 4, 5]\n",
      " - output: [1, 2, 3, 4, 5]\n",
      "selection sort: PASSED | insertion sort: PASSED\n",
      "Invalid output:\n",
      "\n",
      "\n",
      "Testing using sample_3\n",
      " - input:  [1, 1, 1, 1, 1]\n",
      " - output: [1, 1, 1, 1, 1]\n",
      "selection sort: PASSED | insertion sort: PASSED\n",
      "Invalid output:\n",
      "\n",
      "\n",
      "Testing using sample_4\n",
      " - input:  [5, 1, 1, 1, 1]\n",
      " - output: [1, 1, 1, 1, 5]\n",
      "selection sort: PASSED | insertion sort: PASSED\n",
      "Invalid output:\n",
      "\n",
      "\n"
     ]
    }
   ],
   "source": [
    "validation_test()"
   ]
  },
  {
   "cell_type": "markdown",
   "id": "4a7fa05e",
   "metadata": {},
   "source": [
    "# Benchmarking"
   ]
  },
  {
   "cell_type": "code",
   "execution_count": 27,
   "id": "a725b29a",
   "metadata": {},
   "outputs": [],
   "source": [
    "import time\n",
    "import copy\n",
    "\n",
    "def benchmark(sorting_algorithm, input_list):\n",
    " \n",
    "    original_list = copy.deepcopy(input_list)  # Make a separate copy for each trial\n",
    "    start_time = time.perf_counter()\n",
    "\n",
    "    # Benchmark loop\n",
    "    for _ in range(10):  # Run it 10 times to get an average\n",
    "        sorting_algorithm(copy.deepcopy(original_list))\n",
    "\n",
    "    end_time = time.perf_counter()\n",
    "    elapsed_time = end_time - start_time # The total time of 100 runs\n",
    "    avg_time = elapsed_time / 10\n",
    "\n",
    "    print (\"Average time to complete \" + sorting_algorithm.__name__  + \" \" + str(avg_time) + \" seconds for a list of size: \" + str(len(input_list)))\n",
    "\n",
    "   \n",
    "\n"
   ]
  },
  {
   "cell_type": "code",
   "execution_count": 32,
   "id": "5d8cb2a5",
   "metadata": {},
   "outputs": [
    {
     "name": "stdout",
     "output_type": "stream",
     "text": [
      "[0, 1, 2, 3, 4, 5, 6, 7, 8, 9, 10, 11, 12, 13, 14, 15, 16, 17, 18, 19, 20, 21, 22, 23, 24, 25, 26, 27, 28, 29, 30, 31, 32, 33, 34, 35, 36, 37, 38, 39, 40, 41, 42, 43, 44, 45, 46, 47, 48, 49, 50, 51, 52, 53, 54, 55, 56, 57, 58, 59, 60, 61, 62, 63, 64, 65, 66, 67, 68, 69, 70, 71, 72, 73, 74, 75, 76, 77, 78, 79, 80, 81, 82, 83, 84, 85, 86, 87, 88, 89, 90, 91, 92, 93, 94, 95, 96, 97, 98, 99, 100, 101, 102, 103, 104, 105, 106, 107, 108, 109, 110, 111, 112, 113, 114, 115, 116, 117, 118, 119, 120, 121, 122, 123, 124, 125, 126, 127, 128, 129, 130, 131, 132, 133, 134, 135, 136, 137, 138, 139, 140, 141, 142, 143, 144, 145, 146, 147, 148, 149, 150, 151, 152, 153, 154, 155, 156, 157, 158, 159, 160, 161, 162, 163, 164, 165, 166, 167, 168, 169, 170, 171, 172, 173, 174, 175, 176, 177, 178, 179, 180, 181, 182, 183, 184, 185, 186, 187, 188, 189, 190, 191, 192, 193, 194, 195, 196, 197, 198, 199, 200, 201, 202, 203, 204, 205, 206, 207, 208, 209, 210, 211, 212, 213, 214, 215, 216, 217, 218, 219, 220, 221, 222, 223, 224, 225, 226, 227, 228, 229, 230, 231, 232, 233, 234, 235, 236, 237, 238, 239, 240, 241, 242, 243, 244, 245, 246, 247, 248, 249, 250, 251, 252, 253, 254, 255, 256, 257, 258, 259, 260, 261, 262, 263, 264, 265, 266, 267, 268, 269, 270, 271, 272, 273, 274, 275, 276, 277, 278, 279, 280, 281, 282, 283, 284, 285, 286, 287, 288, 289, 290, 291, 292, 293, 294, 295, 296, 297, 298, 299, 300, 301, 302, 303, 304, 305, 306, 307, 308, 309, 310, 311, 312, 313, 314, 315, 316, 317, 318, 319, 320, 321, 322, 323, 324, 325, 326, 327, 328, 329, 330, 331, 332, 333, 334, 335, 336, 337, 338, 339, 340, 341, 342, 343, 344, 345, 346, 347, 348, 349, 350, 351, 352, 353, 354, 355, 356, 357, 358, 359, 360, 361, 362, 363, 364, 365, 366, 367, 368, 369, 370, 371, 372, 373, 374, 375, 376, 377, 378, 379, 380, 381, 382, 383, 384, 385, 386, 387, 388, 389, 390, 391, 392, 393, 394, 395, 396, 397, 398, 399, 400, 401, 402, 403, 404, 405, 406, 407, 408, 409, 410, 411, 412, 413, 414, 415, 416, 417, 418, 419, 420, 421, 422, 423, 424, 425, 426, 427, 428, 429, 430, 431, 432, 433, 434, 435, 436, 437, 438, 439, 440, 441, 442, 443, 444, 445, 446, 447, 448, 449, 450, 451, 452, 453, 454, 455, 456, 457, 458, 459, 460, 461, 462, 463, 464, 465, 466, 467, 468, 469, 470, 471, 472, 473, 474, 475, 476, 477, 478, 479, 480, 481, 482, 483, 484, 485, 486, 487, 488, 489, 490, 491, 492, 493, 494, 495, 496, 497, 498, 499, 500, 501, 502, 503, 504, 505, 506, 507, 508, 509, 510, 511, 512, 513, 514, 515, 516, 517, 518, 519, 520, 521, 522, 523, 524, 525, 526, 527, 528, 529, 530, 531, 532, 533, 534, 535, 536, 537, 538, 539, 540, 541, 542, 543, 544, 545, 546, 547, 548, 549, 550, 551, 552, 553, 554, 555, 556, 557, 558, 559, 560, 561, 562, 563, 564, 565, 566, 567, 568, 569, 570, 571, 572, 573, 574, 575, 576, 577, 578, 579, 580, 581, 582, 583, 584, 585, 586, 587, 588, 589, 590, 591, 592, 593, 594, 595, 596, 597, 598, 599, 600, 601, 602, 603, 604, 605, 606, 607, 608, 609, 610, 611, 612, 613, 614, 615, 616, 617, 618, 619, 620, 621, 622, 623, 624, 625, 626, 627, 628, 629, 630, 631, 632, 633, 634, 635, 636, 637, 638, 639, 640, 641, 642, 643, 644, 645, 646, 647, 648, 649, 650, 651, 652, 653, 654, 655, 656, 657, 658, 659, 660, 661, 662, 663, 664, 665, 666, 667, 668, 669, 670, 671, 672, 673, 674, 675, 676, 677, 678, 679, 680, 681, 682, 683, 684, 685, 686, 687, 688, 689, 690, 691, 692, 693, 694, 695, 696, 697, 698, 699, 700, 701, 702, 703, 704, 705, 706, 707, 708, 709, 710, 711, 712, 713, 714, 715, 716, 717, 718, 719, 720, 721, 722, 723, 724, 725, 726, 727, 728, 729, 730, 731, 732, 733, 734, 735, 736, 737, 738, 739, 740, 741, 742, 743, 744, 745, 746, 747, 748, 749, 750, 751, 752, 753, 754, 755, 756, 757, 758, 759, 760, 761, 762, 763, 764, 765, 766, 767, 768, 769, 770, 771, 772, 773, 774, 775, 776, 777, 778, 779, 780, 781, 782, 783, 784, 785, 786, 787, 788, 789, 790, 791, 792, 793, 794, 795, 796, 797, 798, 799, 800, 801, 802, 803, 804, 805, 806, 807, 808, 809, 810, 811, 812, 813, 814, 815, 816, 817, 818, 819, 820, 821, 822, 823, 824, 825, 826, 827, 828, 829, 830, 831, 832, 833, 834, 835, 836, 837, 838, 839, 840, 841, 842, 843, 844, 845, 846, 847, 848, 849, 850, 851, 852, 853, 854, 855, 856, 857, 858, 859, 860, 861, 862, 863, 864, 865, 866, 867, 868, 869, 870, 871, 872, 873, 874, 875, 876, 877, 878, 879, 880, 881, 882, 883, 884, 885, 886, 887, 888, 889, 890, 891, 892, 893, 894, 895, 896, 897, 898, 899, 900, 901, 902, 903, 904, 905, 906, 907, 908, 909, 910, 911, 912, 913, 914, 915, 916, 917, 918, 919, 920, 921, 922, 923, 924, 925, 926, 927, 928, 929, 930, 931, 932, 933, 934, 935, 936, 937, 938, 939, 940, 941, 942, 943, 944, 945, 946, 947, 948, 949, 950, 951, 952, 953, 954, 955, 956, 957, 958, 959, 960, 961, 962, 963, 964, 965, 966, 967, 968, 969, 970, 971, 972, 973, 974, 975, 976, 977, 978, 979, 980, 981, 982, 983, 984, 985, 986, 987, 988, 989, 990, 991, 992, 993, 994, 995, 996, 997, 998, 999]\n"
     ]
    }
   ],
   "source": [
    "import random\n",
    "\n",
    "# Generating a list of 100 random numbers\n",
    "list_10_rand = [random.randint(1, 1000) for _ in range(10)]\n",
    "list_100_rand =  [random.randint(1, 1000) for _ in range(100)]\n",
    "list_1000_rand =  [random.randint(1, 1000) for _ in range(1000)]\n",
    "list_10000_rand = [random.randint(1, 1000) for _ in range(10000)]\n",
    "list_20000_rand = [random.randint(1, 1000) for _ in range(20000)]\n",
    "list_10_reverse = sorted(range(10), reverse=True)\n",
    "list_100_reverse = sorted(range(100), reverse=True)\n",
    "list_1000_reverse  = sorted(range(1000), reverse=True)\n",
    "list_10000_reverse  = sorted(range(10000), reverse=True)\n",
    "list_20000_reverse  = sorted(range(20000), reverse=True)\n",
    "list_10_sorted = sorted(range(10))\n",
    "list_100_sorted = sorted(range(100))\n",
    "list_1000_sorted  = sorted(range(1000))\n",
    "list_10000_sorted  = sorted(range(10000))\n",
    "list_20000_sorted  = sorted(range(20000))\n",
    "\n",
    "\n",
    "\n",
    "\n"
   ]
  },
  {
   "cell_type": "code",
   "execution_count": 33,
   "id": "48535aed",
   "metadata": {},
   "outputs": [
    {
     "name": "stdout",
     "output_type": "stream",
     "text": [
      "Average time to complete selectionSort 1.3320008292794228e-05 seconds for a list of size: 10\n",
      "Average time to complete selectionSort 0.0002843700116500258 seconds for a list of size: 100\n",
      "Average time to complete selectionSort 0.013629389996640384 seconds for a list of size: 1000\n",
      "Average time to complete selectionSort 1.3116168400039896 seconds for a list of size: 10000\n",
      "Average time to complete selectionSort 5.305924639990553 seconds for a list of size: 20000\n",
      "Average time to complete insertionSort 4.939991049468517e-06 seconds for a list of size: 10\n",
      "Average time to complete insertionSort 0.0001381400041282177 seconds for a list of size: 100\n",
      "Average time to complete insertionSort 0.012544389977119864 seconds for a list of size: 1000\n",
      "Average time to complete insertionSort 1.3392443899996578 seconds for a list of size: 10000\n",
      "Average time to complete insertionSort 5.3207232000073414 seconds for a list of size: 20000\n"
     ]
    }
   ],
   "source": [
    "# Random SOrted List\n",
    "benchmark(selectionSort,list_10_rand)\n",
    "benchmark(selectionSort,list_100_rand)\n",
    "benchmark(selectionSort,list_1000_rand)\n",
    "benchmark(selectionSort,list_10000_rand)\n",
    "benchmark(selectionSort,list_20000_rand)\n",
    "benchmark(insertionSort,list_10_rand)\n",
    "benchmark(insertionSort,list_100_rand)\n",
    "benchmark(insertionSort,list_1000_rand)\n",
    "benchmark(insertionSort,list_10000_rand)\n",
    "benchmark(insertionSort,list_20000_rand)"
   ]
  },
  {
   "cell_type": "code",
   "execution_count": 34,
   "id": "09b46b32",
   "metadata": {},
   "outputs": [
    {
     "name": "stdout",
     "output_type": "stream",
     "text": [
      "Average time to complete selectionSort 7.040007039904594e-06 seconds for a list of size: 10\n",
      "Average time to complete selectionSort 0.00017167001497000455 seconds for a list of size: 100\n",
      "Average time to complete selectionSort 0.013638540008105337 seconds for a list of size: 1000\n",
      "Average time to complete selectionSort 1.4024944100063295 seconds for a list of size: 10000\n",
      "Average time to complete selectionSort 5.628833270003088 seconds for a list of size: 20000\n",
      "Average time to complete insertionSort 6.229989230632782e-06 seconds for a list of size: 10\n",
      "Average time to complete insertionSort 0.0002614200115203857 seconds for a list of size: 100\n",
      "Average time to complete insertionSort 0.024360090005211534 seconds for a list of size: 1000\n",
      "Average time to complete insertionSort 2.6016623699804766 seconds for a list of size: 10000\n",
      "Average time to complete insertionSort 10.823558840015902 seconds for a list of size: 20000\n"
     ]
    }
   ],
   "source": [
    "# Random Reverse List\n",
    "benchmark(selectionSort,list_10_reverse)\n",
    "benchmark(selectionSort,list_100_reverse)\n",
    "benchmark(selectionSort,list_1000_reverse)\n",
    "benchmark(selectionSort,list_10000_reverse)\n",
    "benchmark(selectionSort,list_20000_reverse)\n",
    "benchmark(insertionSort,list_10_reverse)\n",
    "benchmark(insertionSort,list_100_reverse)\n",
    "benchmark(insertionSort,list_1000_reverse)\n",
    "benchmark(insertionSort,list_10000_reverse)\n",
    "benchmark(insertionSort,list_20000_reverse)"
   ]
  },
  {
   "cell_type": "code",
   "execution_count": 35,
   "id": "ced43ec9",
   "metadata": {},
   "outputs": [
    {
     "name": "stdout",
     "output_type": "stream",
     "text": [
      "Average time to complete selectionSort 6.649992428719997e-06 seconds for a list of size: 10\n",
      "Average time to complete selectionSort 0.00014152000658214093 seconds for a list of size: 100\n",
      "Average time to complete selectionSort 0.013467069994658232 seconds for a list of size: 1000\n",
      "Average time to complete selectionSort 1.322932289983146 seconds for a list of size: 10000\n",
      "Average time to complete selectionSort 5.134310579998418 seconds for a list of size: 20000\n",
      "Average time to complete insertionSort 3.6399811506271363e-06 seconds for a list of size: 10\n",
      "Average time to complete insertionSort 2.383000683039427e-05 seconds for a list of size: 100\n",
      "Average time to complete insertionSort 0.0002296699909493327 seconds for a list of size: 1000\n",
      "Average time to complete insertionSort 0.0023046000162139533 seconds for a list of size: 10000\n",
      "Average time to complete insertionSort 0.004594039986841381 seconds for a list of size: 20000\n"
     ]
    }
   ],
   "source": [
    "#Already sorted lists\n",
    "benchmark(selectionSort,list_10_sorted)\n",
    "benchmark(selectionSort,list_100_sorted)\n",
    "benchmark(selectionSort,list_1000_sorted)\n",
    "benchmark(selectionSort,list_10000_sorted)\n",
    "benchmark(selectionSort,list_20000_sorted)\n",
    "benchmark(insertionSort,list_10_sorted)\n",
    "benchmark(insertionSort,list_100_sorted)\n",
    "benchmark(insertionSort,list_1000_sorted)\n",
    "benchmark(insertionSort,list_10000_sorted)\n",
    "benchmark(insertionSort,list_20000_sorted)"
   ]
  },
  {
   "cell_type": "code",
   "execution_count": null,
   "id": "92e78795",
   "metadata": {},
   "outputs": [],
   "source": []
  },
  {
   "cell_type": "markdown",
   "id": "d4b98c25",
   "metadata": {},
   "source": [
    "# Analysis"
   ]
  },
  {
   "cell_type": "markdown",
   "id": "ee5c26e9",
   "metadata": {},
   "source": [
    "# Reflection"
   ]
  },
  {
   "cell_type": "code",
   "execution_count": null,
   "id": "3ccba96f",
   "metadata": {},
   "outputs": [],
   "source": []
  }
 ],
 "metadata": {
  "kernelspec": {
   "display_name": "Python 3 (ipykernel)",
   "language": "python",
   "name": "python3"
  },
  "language_info": {
   "codemirror_mode": {
    "name": "ipython",
    "version": 3
   },
   "file_extension": ".py",
   "mimetype": "text/x-python",
   "name": "python",
   "nbconvert_exporter": "python",
   "pygments_lexer": "ipython3",
   "version": "3.11.8"
  }
 },
 "nbformat": 4,
 "nbformat_minor": 5
}
