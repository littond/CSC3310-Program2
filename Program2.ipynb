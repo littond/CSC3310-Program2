{
 "cells": [
  {
   "cell_type": "markdown",
   "id": "6f0daa44",
   "metadata": {},
   "source": [
    "CSC3310 — Program #2 — Benchmarking Insertion and Selection Sorts\n",
    "\n",
    "David Litton and Eleazar Miranda\n",
    "\n",
    "CSC 3310\n",
    "\n",
    "Mar 1, 2024"
   ]
  },
  {
   "cell_type": "markdown",
   "id": "3fe0f2fb",
   "metadata": {},
   "source": [
    "# Implementation"
   ]
  },
  {
   "cell_type": "markdown",
   "id": "6a1b534f",
   "metadata": {},
   "source": [
    "## Selection Sort"
   ]
  },
  {
   "cell_type": "code",
   "execution_count": 1,
   "id": "5f385ca9",
   "metadata": {},
   "outputs": [],
   "source": [
    "def selectionSort(input_arr):\n",
    "    pass"
   ]
  },
  {
   "cell_type": "markdown",
   "id": "6f8113a0",
   "metadata": {},
   "source": [
    "## Insertion Sort"
   ]
  },
  {
   "cell_type": "code",
   "execution_count": 2,
   "id": "009e01ba",
   "metadata": {},
   "outputs": [],
   "source": [
    "def insertionSort(input_arr):\n",
    "    for i in range(1, len(input_arr)):\n",
    "        key = input_arr[i]\n",
    "        j = i-1\n",
    "        while j >= 0 and key < input_arr[j] :\n",
    "                input_arr[j + 1] = input_arr[j]\n",
    "                j -= 1\n",
    "        input_arr[j + 1] = key\n",
    "    \n",
    "    return input_arr"
   ]
  },
  {
   "cell_type": "markdown",
   "id": "ad53a850",
   "metadata": {},
   "source": [
    "# Validation and Verification"
   ]
  },
  {
   "cell_type": "code",
   "execution_count": 3,
   "id": "fab0bc47",
   "metadata": {},
   "outputs": [],
   "source": [
    "sample_1 = [5, 3, 4, 2, 1]\n",
    "sample_2 = [1, 2, 3, 4, 5]\n",
    "sample_3 = [1, 1, 1, 1, 1]\n",
    "sample_4 = [5, 1, 1, 1, 1]\n",
    "\n",
    "output_1 = [1, 2, 3, 4, 5]\n",
    "output_2 = [1, 2, 3, 4, 5]\n",
    "output_3 = [1, 1, 1, 1, 1]\n",
    "output_4 = [1, 1, 1, 1, 5]\n",
    "\n",
    "all_sample_test_sets = [sample_1, sample_2, sample_3, sample_4]\n",
    "all_expected_outputs = [output_1, output_2, output_3, output_4]\n",
    "\n",
    "num_tests = 4"
   ]
  },
  {
   "cell_type": "code",
   "execution_count": 4,
   "id": "19c5a72a",
   "metadata": {},
   "outputs": [],
   "source": [
    "def validation_test():\n",
    "    for test_num in range(0, num_tests):\n",
    "        print(\"Testing using sample_\" + str(test_num + 1))\n",
    "        print(\" - input:  \" + str(all_sample_test_sets[test_num]))\n",
    "        print(\" - output: \" + str(all_expected_outputs[test_num]))\n",
    "        \n",
    "        selection_out = selectionSort(all_sample_test_sets[test_num])\n",
    "        insertion_out = insertionSort(all_sample_test_sets[test_num])\n",
    "        \n",
    "        \n",
    "        output_message = \"\"\n",
    "        error_msg = \"Invalid output:\\n\"\n",
    "        if (selection_out == all_expected_outputs[test_num]):\n",
    "            output_message += \"selection sort: PASSED | \"\n",
    "        else:\n",
    "            output_message += \"selection sort: FAILED | \"\n",
    "            error_msg += \"selection sort: \" + str(selection_out) + \"\\n\"\n",
    "            \n",
    "        if (insertion_out == all_expected_outputs[test_num]):\n",
    "            output_message += \"insertion sort: PASSED\"\n",
    "        else:\n",
    "            output_message += \"insertion sort: FAILED\"\n",
    "            error_msg += \"insertion sort: \" + str(selection_out)\n",
    "            \n",
    "        print(output_message)\n",
    "        print(error_msg + \"\\n\")"
   ]
  },
  {
   "cell_type": "code",
   "execution_count": 5,
   "id": "ffa52dce",
   "metadata": {},
   "outputs": [
    {
     "name": "stdout",
     "output_type": "stream",
     "text": [
      "Testing using sample_1\n",
      " - input:  [5, 3, 4, 2, 1]\n",
      " - output: [1, 2, 3, 4, 5]\n",
      "selection sort: FAILED | insertion sort: PASSED\n",
      "Invalid output:\n",
      "selection sort: None\n",
      "\n",
      "\n",
      "Testing using sample_2\n",
      " - input:  [1, 2, 3, 4, 5]\n",
      " - output: [1, 2, 3, 4, 5]\n",
      "selection sort: FAILED | insertion sort: PASSED\n",
      "Invalid output:\n",
      "selection sort: None\n",
      "\n",
      "\n",
      "Testing using sample_3\n",
      " - input:  [1, 1, 1, 1, 1]\n",
      " - output: [1, 1, 1, 1, 1]\n",
      "selection sort: FAILED | insertion sort: PASSED\n",
      "Invalid output:\n",
      "selection sort: None\n",
      "\n",
      "\n",
      "Testing using sample_4\n",
      " - input:  [5, 1, 1, 1, 1]\n",
      " - output: [1, 1, 1, 1, 5]\n",
      "selection sort: FAILED | insertion sort: PASSED\n",
      "Invalid output:\n",
      "selection sort: None\n",
      "\n",
      "\n"
     ]
    }
   ],
   "source": [
    "validation_test()"
   ]
  },
  {
   "cell_type": "markdown",
   "id": "4a7fa05e",
   "metadata": {},
   "source": [
    "# Benchmarking"
   ]
  },
  {
   "cell_type": "markdown",
   "id": "d4b98c25",
   "metadata": {},
   "source": [
    "# Analysis"
   ]
  },
  {
   "cell_type": "markdown",
   "id": "ee5c26e9",
   "metadata": {},
   "source": [
    "# Reflection"
   ]
  },
  {
   "cell_type": "code",
   "execution_count": null,
   "id": "3ccba96f",
   "metadata": {},
   "outputs": [],
   "source": []
  }
 ],
 "metadata": {
  "kernelspec": {
   "display_name": "Python 3 (ipykernel)",
   "language": "python",
   "name": "python3"
  },
  "language_info": {
   "codemirror_mode": {
    "name": "ipython",
    "version": 3
   },
   "file_extension": ".py",
   "mimetype": "text/x-python",
   "name": "python",
   "nbconvert_exporter": "python",
   "pygments_lexer": "ipython3",
   "version": "3.11.4"
  }
 },
 "nbformat": 4,
 "nbformat_minor": 5
}
